{
 "cells": [
  {
   "cell_type": "code",
   "execution_count": 8,
   "id": "3426f30e",
   "metadata": {},
   "outputs": [],
   "source": [
    "import os\n",
    "import random\n",
    "import shutil\n",
    "from PIL import Image\n",
    "import cv2\n",
    "import numpy as np"
   ]
  },
  {
   "cell_type": "code",
   "execution_count": 4,
   "id": "cc13255a",
   "metadata": {},
   "outputs": [
    {
     "name": "stdout",
     "output_type": "stream",
     "text": [
      "Collecting opencv-python\n",
      "  Using cached opencv_python-4.7.0.72-cp37-abi3-win_amd64.whl (38.2 MB)\n",
      "Requirement already satisfied: numpy>=1.17.0 in c:\\users\\yaros\\appdata\\roaming\\python\\python310\\site-packages (from opencv-python) (1.22.1)\n",
      "Installing collected packages: opencv-python\n",
      "Successfully installed opencv-python-4.7.0.72\n"
     ]
    },
    {
     "name": "stderr",
     "output_type": "stream",
     "text": [
      "WARNING: Ignoring invalid distribution -ip (c:\\python310\\lib\\site-packages)\n",
      "WARNING: Ignoring invalid distribution -ip (c:\\python310\\lib\\site-packages)\n",
      "WARNING: Ignoring invalid distribution -ip (c:\\python310\\lib\\site-packages)\n",
      "WARNING: Ignoring invalid distribution -ip (c:\\python310\\lib\\site-packages)\n",
      "WARNING: Ignoring invalid distribution -ip (c:\\python310\\lib\\site-packages)\n",
      "WARNING: Ignoring invalid distribution -ip (c:\\python310\\lib\\site-packages)\n",
      "WARNING: Ignoring invalid distribution -ip (c:\\python310\\lib\\site-packages)\n"
     ]
    }
   ],
   "source": [
    "!pip install opencv-python\n"
   ]
  },
  {
   "cell_type": "code",
   "execution_count": 22,
   "id": "00ad1c8b",
   "metadata": {},
   "outputs": [
    {
     "name": "stdout",
     "output_type": "stream",
     "text": [
      "train inds:  {7, 9, 10, 11, 12, 13, 14, 15, 16, 17, 18, 19, 20, 21, 22, 23, 24, 25, 26, 27, 28, 29, 30, 31, 32, 33}\n",
      "val   inds:  {0, 2, 3, 4}\n",
      "test  inds:  {8, 1, 5, 6}\n"
     ]
    }
   ],
   "source": [
    "src_dir = \"./datasets/cel_unordered_face\"\n",
    "files = os.listdir(src_dir)\n",
    "files.sort(key=lambda f: (int(f.split('-')[1]), int(f.split('-')[2].split('.')[0])))\n",
    "#print(files)\n",
    "#return\n",
    "val_char_count = 4\n",
    "test_char_count = 4\n",
    "\n",
    "def ind(f):\n",
    "    return int(f.split('-')[1])\n",
    "\n",
    "char_inds = [ind(f) for f in files]\n",
    "char_count = max(char_inds)\n",
    "inds = set([i for i in range(char_count)])\n",
    "\n",
    "def choose_inds(count):\n",
    "    res = []\n",
    "    for i in range(count):\n",
    "        ind = random.randint(0,count-i)\n",
    "        num = list(inds)[ind]\n",
    "        inds.remove(num)\n",
    "        res.append(num)\n",
    "    return set(res)\n",
    "\n",
    "val_inds = choose_inds(val_char_count)\n",
    "test_inds = choose_inds(test_char_count)\n",
    "print(\"train inds: \", inds)\n",
    "print(\"val   inds: \", val_inds)\n",
    "print(\"test  inds: \", test_inds)\n",
    "\n",
    "dataset_name = \"cel_face\"\n",
    "\n",
    "if not os.path.exists('datasets/{}'.format(dataset_name)):\n",
    "    os.mkdir('datasets/{}'.format(dataset_name))\n",
    "    os.mkdir('datasets/{}/train'.format(dataset_name))\n",
    "    os.mkdir('datasets/{}/val'.format(dataset_name))\n",
    "    os.mkdir('datasets/{}/test'.format(dataset_name))\n",
    "\n",
    "cel_dir = 'datasets/{}'.format(dataset_name)\n",
    "train_dir = 'datasets/{}/train'.format(dataset_name)\n",
    "val_dir = 'datasets/{}/val'.format(dataset_name)\n",
    "test_dir = 'datasets/{}/test'.format(dataset_name)\n",
    "{}\n",
    "tri = 1\n",
    "vli = 1\n",
    "tsi = 1\n",
    "\n",
    "def chunks(lst, n):\n",
    "    \"\"\"Yield successive n-sized chunks from lst.\"\"\"\n",
    "    for i in range(0, len(lst), n):\n",
    "        yield lst[i:i + n]\n",
    "\n",
    "for ff in chunks(files, 2):\n",
    "    f = ff[0]\n",
    "    ci = ind(f)\n",
    "    dst = train_dir\n",
    "    i = tri\n",
    "    if ci in val_inds:\n",
    "        dst = val_dir\n",
    "        i = vli\n",
    "        vli += 1\n",
    "    elif ci in test_inds:\n",
    "        dst = test_dir\n",
    "        i = tsi\n",
    "        tsi += 1\n",
    "    else:\n",
    "        tri += 1\n",
    "        \n",
    "    src_file = os.path.join(src_dir, f)\n",
    "    src_file2 = os.path.join(src_dir, ff[1])\n",
    "    #shutil.copy(src_file, dst)\n",
    "    dst_file = os.path.join(dst, \"{}.jpg\".format(i))\n",
    "    #new_dst_file_name = os.path.join(dest_dir, 'test.txt.copy3')\n",
    "    #os.rename(dst_file, new_dst_file_name)\n",
    "    #im1 = Image.open(src_file)\n",
    "    #im1.save(dst_file)\n",
    "    im_A = cv2.imread(src_file, 1) # python2: cv2.CV_LOAD_IMAGE_COLOR; python3: cv2.IMREAD_COLOR\n",
    "    im_B = cv2.imread(src_file2, 1) # python2: cv2.CV_LOAD_IMAGE_COLOR; python3: cv2.IMREAD_COLOR\n",
    "    im_AB = np.concatenate([im_A, im_B], 1)\n",
    "    cv2.imwrite(dst_file, im_AB)"
   ]
  }
 ],
 "metadata": {
  "kernelspec": {
   "display_name": "pix2pix",
   "language": "python",
   "name": "pix2pix"
  },
  "language_info": {
   "codemirror_mode": {
    "name": "ipython",
    "version": 3
   },
   "file_extension": ".py",
   "mimetype": "text/x-python",
   "name": "python",
   "nbconvert_exporter": "python",
   "pygments_lexer": "ipython3",
   "version": "3.10.2"
  }
 },
 "nbformat": 4,
 "nbformat_minor": 5
}
