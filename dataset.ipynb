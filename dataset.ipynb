{
 "cells": [
  {
   "cell_type": "code",
   "execution_count": 1,
   "id": "3426f30e",
   "metadata": {},
   "outputs": [],
   "source": [
    "import os\n",
    "import random\n",
    "import shutil\n",
    "from PIL import Image\n",
    "import cv2\n",
    "import numpy as np"
   ]
  },
  {
   "cell_type": "code",
   "execution_count": 4,
   "id": "cc13255a",
   "metadata": {},
   "outputs": [
    {
     "name": "stdout",
     "output_type": "stream",
     "text": [
      "Collecting opencv-python\n",
      "  Using cached opencv_python-4.7.0.72-cp37-abi3-win_amd64.whl (38.2 MB)\n",
      "Requirement already satisfied: numpy>=1.17.0 in c:\\users\\yaros\\appdata\\roaming\\python\\python310\\site-packages (from opencv-python) (1.22.1)\n",
      "Installing collected packages: opencv-python\n",
      "Successfully installed opencv-python-4.7.0.72\n"
     ]
    },
    {
     "name": "stderr",
     "output_type": "stream",
     "text": [
      "WARNING: Ignoring invalid distribution -ip (c:\\python310\\lib\\site-packages)\n",
      "WARNING: Ignoring invalid distribution -ip (c:\\python310\\lib\\site-packages)\n",
      "WARNING: Ignoring invalid distribution -ip (c:\\python310\\lib\\site-packages)\n",
      "WARNING: Ignoring invalid distribution -ip (c:\\python310\\lib\\site-packages)\n",
      "WARNING: Ignoring invalid distribution -ip (c:\\python310\\lib\\site-packages)\n",
      "WARNING: Ignoring invalid distribution -ip (c:\\python310\\lib\\site-packages)\n",
      "WARNING: Ignoring invalid distribution -ip (c:\\python310\\lib\\site-packages)\n"
     ]
    }
   ],
   "source": [
    "!pip install opencv-python\n"
   ]
  },
  {
   "cell_type": "code",
   "execution_count": 28,
   "id": "00ad1c8b",
   "metadata": {},
   "outputs": [
    {
     "name": "stdout",
     "output_type": "stream",
     "text": [
      "ERROR! Session/line number was not unique intrain inds:  {5, 6, 7, 8, 9, 10, 11, 12, 13, 14, 15, 16, 17, 18, 19, 20, 21, 22, 23, 24, 25, 26, 27, 28, 29, 30, 31, 32, 33, 34, 35, 36, 37, 38, 39, 40, 41, 42, 43, 44, 45, 46, 47, 48, 49, 50, 51, 52, 53, 54, 55, 56, 57, 58, 59, 60, 61, 62, 63, 64, 65, 66, 67, 68}\n",
      " val   inds:  {0, 1, 3}\n",
      "test  inds:  {2, 4}\n",
      "database. History logging moved to new session 120\n",
      "zero-dimensional arrays cannot be concatenated\n",
      "cannot concatinate {} {} ./datasets/cel_face_lights_unordered\\sample-69-28.png ./datasets/cel_face_lights_unordered\\sample-69-29.png\n"
     ]
    },
    {
     "ename": "ValueError",
     "evalue": "zero-dimensional arrays cannot be concatenated",
     "output_type": "error",
     "traceback": [
      "\u001b[1;31m---------------------------------------------------------------------------\u001b[0m",
      "\u001b[1;31mValueError\u001b[0m                                Traceback (most recent call last)",
      "Input \u001b[1;32mIn [28]\u001b[0m, in \u001b[0;36m<cell line: 53>\u001b[1;34m()\u001b[0m\n\u001b[0;32m     82\u001b[0m     \u001b[38;5;28mprint\u001b[39m(inst)\n\u001b[0;32m     83\u001b[0m     \u001b[38;5;28mprint\u001b[39m(\u001b[38;5;124m\"\u001b[39m\u001b[38;5;124mcannot concatinate \u001b[39m\u001b[38;5;132;01m{}\u001b[39;00m\u001b[38;5;124m \u001b[39m\u001b[38;5;132;01m{}\u001b[39;00m\u001b[38;5;124m\"\u001b[39m, src_file, src_file2)\n\u001b[1;32m---> 84\u001b[0m     \u001b[38;5;28;01mraise\u001b[39;00m inst\n\u001b[0;32m     85\u001b[0m cv2\u001b[38;5;241m.\u001b[39mimwrite(dst_file, im_AB)\n",
      "Input \u001b[1;32mIn [28]\u001b[0m, in \u001b[0;36m<cell line: 53>\u001b[1;34m()\u001b[0m\n\u001b[0;32m     78\u001b[0m im_B \u001b[38;5;241m=\u001b[39m cv2\u001b[38;5;241m.\u001b[39mimread(src_file2, \u001b[38;5;241m1\u001b[39m) \u001b[38;5;66;03m# python2: cv2.CV_LOAD_IMAGE_COLOR; python3: cv2.IMREAD_COLOR\u001b[39;00m\n\u001b[0;32m     79\u001b[0m \u001b[38;5;28;01mtry\u001b[39;00m:\n\u001b[1;32m---> 80\u001b[0m     im_AB \u001b[38;5;241m=\u001b[39m \u001b[43mnp\u001b[49m\u001b[38;5;241;43m.\u001b[39;49m\u001b[43mconcatenate\u001b[49m\u001b[43m(\u001b[49m\u001b[43m[\u001b[49m\u001b[43mim_A\u001b[49m\u001b[43m,\u001b[49m\u001b[43m \u001b[49m\u001b[43mim_B\u001b[49m\u001b[43m]\u001b[49m\u001b[43m,\u001b[49m\u001b[43m \u001b[49m\u001b[38;5;241;43m1\u001b[39;49m\u001b[43m)\u001b[49m\n\u001b[0;32m     81\u001b[0m \u001b[38;5;28;01mexcept\u001b[39;00m \u001b[38;5;167;01mException\u001b[39;00m \u001b[38;5;28;01mas\u001b[39;00m inst:\n\u001b[0;32m     82\u001b[0m     \u001b[38;5;28mprint\u001b[39m(inst)\n",
      "File \u001b[1;32m<__array_function__ internals>:180\u001b[0m, in \u001b[0;36mconcatenate\u001b[1;34m(*args, **kwargs)\u001b[0m\n",
      "\u001b[1;31mValueError\u001b[0m: zero-dimensional arrays cannot be concatenated"
     ]
    }
   ],
   "source": [
    "src_dir = \"./datasets/cel_face_lights_unordered\"\n",
    "files = os.listdir(src_dir)\n",
    "files.sort(key=lambda f: (int(f.split('-')[1]), int(f.split('-')[2].split('.')[0])))\n",
    "#print(files)\n",
    "#return\n",
    "val_char_count = 3\n",
    "test_char_count = 2\n",
    "\n",
    "def ind(f):\n",
    "    return int(f.split('-')[1])\n",
    "\n",
    "char_inds = [ind(f) for f in files]\n",
    "char_count = max(char_inds)\n",
    "inds = set([i for i in range(char_count)])\n",
    "\n",
    "def choose_inds(count):\n",
    "    res = []\n",
    "    for i in range(count):\n",
    "        ind = random.randint(0,count-i)\n",
    "        num = list(inds)[ind]\n",
    "        inds.remove(num)\n",
    "        res.append(num)\n",
    "    return set(res)\n",
    "\n",
    "val_inds = choose_inds(val_char_count)\n",
    "test_inds = choose_inds(test_char_count)\n",
    "print(\"train inds: \", inds)\n",
    "print(\"val   inds: \", val_inds)\n",
    "print(\"test  inds: \", test_inds)\n",
    "\n",
    "dataset_name = \"cel_face_lights\"\n",
    "\n",
    "if not os.path.exists('datasets/{}'.format(dataset_name)):\n",
    "    os.mkdir('datasets/{}'.format(dataset_name))\n",
    "    os.mkdir('datasets/{}/train'.format(dataset_name))\n",
    "    os.mkdir('datasets/{}/val'.format(dataset_name))\n",
    "    os.mkdir('datasets/{}/test'.format(dataset_name))\n",
    "\n",
    "cel_dir = 'datasets/{}'.format(dataset_name)\n",
    "train_dir = 'datasets/{}/train'.format(dataset_name)\n",
    "val_dir = 'datasets/{}/val'.format(dataset_name)\n",
    "test_dir = 'datasets/{}/test'.format(dataset_name)\n",
    "{}\n",
    "tri = 1\n",
    "vli = 1\n",
    "tsi = 1\n",
    "\n",
    "def chunks(lst, n):\n",
    "    \"\"\"Yield successive n-sized chunks from lst.\"\"\"\n",
    "    for i in range(0, len(lst), n):\n",
    "        yield lst[i:i + n]\n",
    "\n",
    "for ff in chunks(files, 2):\n",
    "    f = ff[0]\n",
    "    ci = ind(f)\n",
    "    dst = train_dir\n",
    "    i = tri\n",
    "    if ci in val_inds:\n",
    "        dst = val_dir\n",
    "        i = vli\n",
    "        vli += 1\n",
    "    elif ci in test_inds:\n",
    "        dst = test_dir\n",
    "        i = tsi\n",
    "        tsi += 1\n",
    "    else:\n",
    "        tri += 1\n",
    "        \n",
    "    src_file = os.path.join(src_dir, f)\n",
    "    src_file2 = os.path.join(src_dir, ff[1])\n",
    "    #shutil.copy(src_file, dst)\n",
    "    dst_file = os.path.join(dst, \"{}.jpg\".format(i))\n",
    "    #new_dst_file_name = os.path.join(dest_dir, 'test.txt.copy3')\n",
    "    #os.rename(dst_file, new_dst_file_name)\n",
    "    #im1 = Image.open(src_file)\n",
    "    #im1.save(dst_file)\n",
    "    im_A = cv2.imread(src_file, 1) # python2: cv2.CV_LOAD_IMAGE_COLOR; python3: cv2.IMREAD_COLOR\n",
    "    im_B = cv2.imread(src_file2, 1) # python2: cv2.CV_LOAD_IMAGE_COLOR; python3: cv2.IMREAD_COLOR\n",
    "    try:\n",
    "        im_AB = np.concatenate([im_A, im_B], 1)\n",
    "    except Exception as inst:\n",
    "        print(inst)\n",
    "        print(\"cannot concatinate {} {}\", src_file, src_file2)\n",
    "        raise inst\n",
    "    cv2.imwrite(dst_file, im_AB)"
   ]
  },
  {
   "cell_type": "code",
   "execution_count": 2,
   "id": "aedad110",
   "metadata": {},
   "outputs": [
    {
     "data": {
      "text/plain": [
       "True"
      ]
     },
     "execution_count": 2,
     "metadata": {},
     "output_type": "execute_result"
    }
   ],
   "source": [
    "src_dir = 'tmp'\n",
    "\n",
    "\n",
    "src_file = 'tmp/s2.png'\n",
    "src_file2 = 'tmp/s1.png'\n",
    "#shutil.copy(src_file, dst)\n",
    "dst_file = os.path.join('tmp', \"30.jpg\")\n",
    "#new_dst_file_name = os.path.join(dest_dir, 'test.txt.copy3')\n",
    "#os.rename(dst_file, new_dst_file_name)\n",
    "#im1 = Image.open(src_file)\n",
    "#im1.save(dst_file)\n",
    "im_A = cv2.imread(src_file, 1) # python2: cv2.CV_LOAD_IMAGE_COLOR; python3: cv2.IMREAD_COLOR\n",
    "im_B = cv2.imread(src_file2, 1) # python2: cv2.CV_LOAD_IMAGE_COLOR; python3: cv2.IMREAD_COLOR\n",
    "try:\n",
    "    im_AB = np.concatenate([im_A, im_B], 1)\n",
    "except Exception as inst:\n",
    "    print(inst)\n",
    "    print(\"cannot concatinate {} {}\", src_file, src_file2)\n",
    "    raise inst\n",
    "cv2.imwrite(dst_file, im_AB)"
   ]
  }
 ],
 "metadata": {
  "kernelspec": {
   "display_name": "pix2pix",
   "language": "python",
   "name": "pix2pix"
  },
  "language_info": {
   "codemirror_mode": {
    "name": "ipython",
    "version": 3
   },
   "file_extension": ".py",
   "mimetype": "text/x-python",
   "name": "python",
   "nbconvert_exporter": "python",
   "pygments_lexer": "ipython3",
   "version": "3.10.2"
  }
 },
 "nbformat": 4,
 "nbformat_minor": 5
}
